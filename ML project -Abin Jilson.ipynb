{
 "cells": [
  {
   "cell_type": "code",
   "execution_count": 42,
   "metadata": {},
   "outputs": [],
   "source": [
    "#importing libraries\n",
    "import numpy as np\n",
    "import matplotlib.pyplot as plt\n",
    "import pandas as pd\n",
    "import seaborn as sns"
   ]
  },
  {
   "cell_type": "code",
   "execution_count": 2,
   "metadata": {
    "scrolled": true
   },
   "outputs": [
    {
     "data": {
      "text/html": [
       "<div>\n",
       "<style scoped>\n",
       "    .dataframe tbody tr th:only-of-type {\n",
       "        vertical-align: middle;\n",
       "    }\n",
       "\n",
       "    .dataframe tbody tr th {\n",
       "        vertical-align: top;\n",
       "    }\n",
       "\n",
       "    .dataframe thead th {\n",
       "        text-align: right;\n",
       "    }\n",
       "</style>\n",
       "<table border=\"1\" class=\"dataframe\">\n",
       "  <thead>\n",
       "    <tr style=\"text-align: right;\">\n",
       "      <th></th>\n",
       "      <th>Customer ID</th>\n",
       "      <th>Name</th>\n",
       "      <th>Gender</th>\n",
       "      <th>Age</th>\n",
       "      <th>Income (USD)</th>\n",
       "      <th>Income Stability</th>\n",
       "      <th>Profession</th>\n",
       "      <th>Type of Employment</th>\n",
       "      <th>Location</th>\n",
       "      <th>Loan Amount Request (USD)</th>\n",
       "      <th>...</th>\n",
       "      <th>Credit Score</th>\n",
       "      <th>No. of Defaults</th>\n",
       "      <th>Has Active Credit Card</th>\n",
       "      <th>Property ID</th>\n",
       "      <th>Property Age</th>\n",
       "      <th>Property Type</th>\n",
       "      <th>Property Location</th>\n",
       "      <th>Co-Applicant</th>\n",
       "      <th>Property Price</th>\n",
       "      <th>Loan Sanction Amount (USD)</th>\n",
       "    </tr>\n",
       "  </thead>\n",
       "  <tbody>\n",
       "    <tr>\n",
       "      <th>0</th>\n",
       "      <td>C-36995</td>\n",
       "      <td>Frederica Shealy</td>\n",
       "      <td>F</td>\n",
       "      <td>56</td>\n",
       "      <td>1933.05</td>\n",
       "      <td>Low</td>\n",
       "      <td>Working</td>\n",
       "      <td>Sales staff</td>\n",
       "      <td>Semi-Urban</td>\n",
       "      <td>72809.58</td>\n",
       "      <td>...</td>\n",
       "      <td>809.44</td>\n",
       "      <td>0</td>\n",
       "      <td>NaN</td>\n",
       "      <td>746</td>\n",
       "      <td>1933.05</td>\n",
       "      <td>4</td>\n",
       "      <td>Rural</td>\n",
       "      <td>1</td>\n",
       "      <td>119933.46</td>\n",
       "      <td>54607.18</td>\n",
       "    </tr>\n",
       "    <tr>\n",
       "      <th>1</th>\n",
       "      <td>C-33999</td>\n",
       "      <td>America Calderone</td>\n",
       "      <td>M</td>\n",
       "      <td>32</td>\n",
       "      <td>4952.91</td>\n",
       "      <td>Low</td>\n",
       "      <td>Working</td>\n",
       "      <td>NaN</td>\n",
       "      <td>Semi-Urban</td>\n",
       "      <td>46837.47</td>\n",
       "      <td>...</td>\n",
       "      <td>780.40</td>\n",
       "      <td>0</td>\n",
       "      <td>Unpossessed</td>\n",
       "      <td>608</td>\n",
       "      <td>4952.91</td>\n",
       "      <td>2</td>\n",
       "      <td>Rural</td>\n",
       "      <td>1</td>\n",
       "      <td>54791.00</td>\n",
       "      <td>37469.98</td>\n",
       "    </tr>\n",
       "    <tr>\n",
       "      <th>2</th>\n",
       "      <td>C-3770</td>\n",
       "      <td>Rosetta Verne</td>\n",
       "      <td>F</td>\n",
       "      <td>65</td>\n",
       "      <td>988.19</td>\n",
       "      <td>High</td>\n",
       "      <td>Pensioner</td>\n",
       "      <td>NaN</td>\n",
       "      <td>Semi-Urban</td>\n",
       "      <td>45593.04</td>\n",
       "      <td>...</td>\n",
       "      <td>833.15</td>\n",
       "      <td>0</td>\n",
       "      <td>Unpossessed</td>\n",
       "      <td>546</td>\n",
       "      <td>988.19</td>\n",
       "      <td>2</td>\n",
       "      <td>Urban</td>\n",
       "      <td>0</td>\n",
       "      <td>72440.58</td>\n",
       "      <td>36474.43</td>\n",
       "    </tr>\n",
       "    <tr>\n",
       "      <th>3</th>\n",
       "      <td>C-26480</td>\n",
       "      <td>Zoe Chitty</td>\n",
       "      <td>F</td>\n",
       "      <td>65</td>\n",
       "      <td>NaN</td>\n",
       "      <td>High</td>\n",
       "      <td>Pensioner</td>\n",
       "      <td>NaN</td>\n",
       "      <td>Rural</td>\n",
       "      <td>80057.92</td>\n",
       "      <td>...</td>\n",
       "      <td>832.70</td>\n",
       "      <td>1</td>\n",
       "      <td>Unpossessed</td>\n",
       "      <td>890</td>\n",
       "      <td>NaN</td>\n",
       "      <td>2</td>\n",
       "      <td>Semi-Urban</td>\n",
       "      <td>1</td>\n",
       "      <td>121441.51</td>\n",
       "      <td>56040.54</td>\n",
       "    </tr>\n",
       "    <tr>\n",
       "      <th>4</th>\n",
       "      <td>C-23459</td>\n",
       "      <td>Afton Venema</td>\n",
       "      <td>F</td>\n",
       "      <td>31</td>\n",
       "      <td>2614.77</td>\n",
       "      <td>Low</td>\n",
       "      <td>Working</td>\n",
       "      <td>High skill tech staff</td>\n",
       "      <td>Semi-Urban</td>\n",
       "      <td>113858.89</td>\n",
       "      <td>...</td>\n",
       "      <td>745.55</td>\n",
       "      <td>1</td>\n",
       "      <td>Active</td>\n",
       "      <td>715</td>\n",
       "      <td>2614.77</td>\n",
       "      <td>4</td>\n",
       "      <td>Semi-Urban</td>\n",
       "      <td>1</td>\n",
       "      <td>208567.91</td>\n",
       "      <td>74008.28</td>\n",
       "    </tr>\n",
       "  </tbody>\n",
       "</table>\n",
       "<p>5 rows × 24 columns</p>\n",
       "</div>"
      ],
      "text/plain": [
       "  Customer ID               Name Gender  Age  Income (USD) Income Stability  \\\n",
       "0     C-36995   Frederica Shealy      F   56       1933.05              Low   \n",
       "1     C-33999  America Calderone      M   32       4952.91              Low   \n",
       "2      C-3770      Rosetta Verne      F   65        988.19             High   \n",
       "3     C-26480         Zoe Chitty      F   65           NaN             High   \n",
       "4     C-23459       Afton Venema      F   31       2614.77              Low   \n",
       "\n",
       "  Profession     Type of Employment    Location  Loan Amount Request (USD)  \\\n",
       "0    Working            Sales staff  Semi-Urban                   72809.58   \n",
       "1    Working                    NaN  Semi-Urban                   46837.47   \n",
       "2  Pensioner                    NaN  Semi-Urban                   45593.04   \n",
       "3  Pensioner                    NaN       Rural                   80057.92   \n",
       "4    Working  High skill tech staff  Semi-Urban                  113858.89   \n",
       "\n",
       "   ...  Credit Score No. of Defaults Has Active Credit Card  Property ID  \\\n",
       "0  ...        809.44               0                    NaN          746   \n",
       "1  ...        780.40               0            Unpossessed          608   \n",
       "2  ...        833.15               0            Unpossessed          546   \n",
       "3  ...        832.70               1            Unpossessed          890   \n",
       "4  ...        745.55               1                 Active          715   \n",
       "\n",
       "   Property Age  Property Type Property Location  Co-Applicant  \\\n",
       "0       1933.05              4             Rural             1   \n",
       "1       4952.91              2             Rural             1   \n",
       "2        988.19              2             Urban             0   \n",
       "3           NaN              2        Semi-Urban             1   \n",
       "4       2614.77              4        Semi-Urban             1   \n",
       "\n",
       "   Property Price  Loan Sanction Amount (USD)  \n",
       "0       119933.46                    54607.18  \n",
       "1        54791.00                    37469.98  \n",
       "2        72440.58                    36474.43  \n",
       "3       121441.51                    56040.54  \n",
       "4       208567.91                    74008.28  \n",
       "\n",
       "[5 rows x 24 columns]"
      ]
     },
     "execution_count": 2,
     "metadata": {},
     "output_type": "execute_result"
    }
   ],
   "source": [
    "#loading datasets\n",
    "customer_details=pd.read_csv('classified-data.csv')\n",
    "\n",
    "customer_details.head()"
   ]
  },
  {
   "cell_type": "markdown",
   "metadata": {},
   "source": [
    "# Exploratory Data Analysis"
   ]
  },
  {
   "cell_type": "code",
   "execution_count": 3,
   "metadata": {},
   "outputs": [
    {
     "data": {
      "text/plain": [
       "<matplotlib.axes._subplots.AxesSubplot at 0x23f78f792c8>"
      ]
     },
     "execution_count": 3,
     "metadata": {},
     "output_type": "execute_result"
    },
    {
     "data": {
      "image/png": "[encoded data removed]",
      "text/plain": [
       "<Figure size 432x288 with 1 Axes>"
      ]
     },
     "metadata": {
      "needs_background": "light"
     },
     "output_type": "display_data"
    }
   ],
   "source": [
    "sns.distplot(customer_details['Age'],kde=False,bins=30)"
   ]
  },
  {
   "cell_type": "code",
   "execution_count": 4,
   "metadata": {},
   "outputs": [
    {
     "data": {
      "text/plain": [
       "<seaborn.axisgrid.FacetGrid at 0x23f7973af08>"
      ]
     },
     "execution_count": 4,
     "metadata": {},
     "output_type": "execute_result"
    },
    {
     "data": {
      "image/png": "[encoded data removed]",
      "text/plain": [
       "<Figure size 360x360 with 1 Axes>"
      ]
     },
     "metadata": {
      "needs_background": "light"
     },
     "output_type": "display_data"
    }
   ],
   "source": [
    "sns.lmplot(x='Credit Score',y='Loan Sanction Amount (USD)',data=customer_details)"
   ]
  },
  {
   "cell_type": "code",
   "execution_count": 5,
   "metadata": {
    "scrolled": true
   },
   "outputs": [
    {
     "data": {
      "text/plain": [
       "<matplotlib.axes._subplots.AxesSubplot at 0x23f79b59f88>"
      ]
     },
     "execution_count": 5,
     "metadata": {},
     "output_type": "execute_result"
    },
    {
     "data": {
      "image/png": "[encoded data removed]",
      "text/plain": [
       "<Figure size 504x216 with 1 Axes>"
      ]
     },
     "metadata": {
      "needs_background": "light"
     },
     "output_type": "display_data"
    }
   ],
   "source": [
    "plt.figure(figsize=(7, 3))\n",
    "sns.boxplot(x='Gender',y='Loan Sanction Amount (USD)',data=customer_details,palette='winter')"
   ]
  },
  {
   "cell_type": "code",
   "execution_count": 6,
   "metadata": {},
   "outputs": [
    {
     "data": {
      "text/plain": [
       "<seaborn.axisgrid.FacetGrid at 0x23f7979e7c8>"
      ]
     },
     "execution_count": 6,
     "metadata": {},
     "output_type": "execute_result"
    },
    {
     "data": {
      "image/png": "[encoded data removed]",
      "text/plain": [
       "<Figure size 1080x360 with 1 Axes>"
      ]
     },
     "metadata": {
      "needs_background": "light"
     },
     "output_type": "display_data"
    }
   ],
   "source": [
    "sns.catplot(x=\"Profession\", y=\"Loan Sanction Amount (USD)\", jitter=False,aspect=3,data=customer_details)"
   ]
  },
  {
   "cell_type": "code",
   "execution_count": 7,
   "metadata": {},
   "outputs": [
    {
     "data": {
      "text/plain": [
       "<seaborn.axisgrid.FacetGrid at 0x23f7b4fbec8>"
      ]
     },
     "execution_count": 7,
     "metadata": {},
     "output_type": "execute_result"
    },
    {
     "data": {
      "text/plain": [
       "<Figure size 432x720 with 0 Axes>"
      ]
     },
     "metadata": {},
     "output_type": "display_data"
    },
    {
     "data": {
      "image/png": "[encoded data removed]",
      "text/plain": [
       "<Figure size 1221.88x216 with 1 Axes>"
      ]
     },
     "metadata": {
      "needs_background": "light"
     },
     "output_type": "display_data"
    }
   ],
   "source": [
    "plt.figure(figsize=(6, 10))\n",
    "sns.catplot(x=\"Profession\",y=\"Loan Sanction Amount (USD)\",hue=\"Type of Employment\",kind=\"bar\",height=3,aspect=5,data=customer_details)"
   ]
  },
  {
   "cell_type": "code",
   "execution_count": 8,
   "metadata": {},
   "outputs": [
    {
     "data": {
      "text/plain": [
       "0                  Sales staff\n",
       "1                          NaN\n",
       "2                       No Job\n",
       "3                       No Job\n",
       "4        High skill tech staff\n",
       "                 ...          \n",
       "29995                 Managers\n",
       "29996                 Laborers\n",
       "29997              Sales staff\n",
       "29998           Security staff\n",
       "29999                   No Job\n",
       "Name: Type of Employment, Length: 30000, dtype: object"
      ]
     },
     "execution_count": 8,
     "metadata": {},
     "output_type": "execute_result"
    }
   ],
   "source": [
    "# All the pensoners,unemployed,students,maternity leave have empty values in Type of Employment\n",
    "# As these type of customers may don't have any employment I have added a new classification called \"No Job\" in Type of Employment\n",
    "\n",
    "customer_details.loc[customer_details.Profession == 'Pensioner', 'Type of Employment'] = \"No Job\"\n",
    "customer_details.loc[customer_details.Profession == 'Student', 'Type of Employment'] = \"No Job\"\n",
    "customer_details.loc[customer_details.Profession == 'Unemployed', 'Type of Employment'] = \"No Job\"\n",
    "# Maternity leave considerd as \"No Job\" as there is only one entry for it\n",
    "customer_details.loc[customer_details.Profession == 'Maternity leave', 'Type of Employment'] = \"No Job\"\n",
    "customer_details['Type of Employment']"
   ]
  },
  {
   "cell_type": "code",
   "execution_count": 9,
   "metadata": {
    "scrolled": false
   },
   "outputs": [
    {
     "data": {
      "image/png": "[encoded data removed]",
      "text/plain": [
       "<Figure size 1584x360 with 3 Axes>"
      ]
     },
     "metadata": {
      "needs_background": "light"
     },
     "output_type": "display_data"
    }
   ],
   "source": [
    "fig2, ax2= plt.subplots(1,3)\n",
    "\n",
    "\n",
    "customer_details['Dependents'].value_counts(normalize=True).plot(figsize=(22,5),ax=ax2[0],kind='bar',title= 'Dependents',rot=0)\n",
    "\n",
    "customer_details['Co-Applicant'].value_counts(normalize=True).plot(ax=ax2[1],kind='bar',title= 'Co-Applicant',rot=0)\n",
    "\n",
    "customer_details['Property Location'].value_counts(normalize=True).plot(ax=ax2[2],kind='bar',title= 'Property Location',rot=0)\n",
    "\n",
    "fig2.tight_layout()"
   ]
  },
  {
   "cell_type": "code",
   "execution_count": 10,
   "metadata": {},
   "outputs": [],
   "source": [
    "# -999 in Co-Applicant column is an invalid entry .so as it is a negative number I am converting it into 0\n",
    "\n",
    "customer_details['Co-Applicant'] = customer_details['Co-Applicant'].replace([-999],0)"
   ]
  },
  {
   "cell_type": "code",
   "execution_count": 11,
   "metadata": {},
   "outputs": [
    {
     "data": {
      "text/plain": [
       "<matplotlib.axes._subplots.AxesSubplot at 0x23f7ab56088>"
      ]
     },
     "execution_count": 11,
     "metadata": {},
     "output_type": "execute_result"
    },
    {
     "data": {
      "image/png": "[encoded data removed]",
      "text/plain": [
       "<Figure size 432x288 with 1 Axes>"
      ]
     },
     "metadata": {
      "needs_background": "light"
     },
     "output_type": "display_data"
    }
   ],
   "source": [
    "#checking whether values changed or not\n",
    "customer_details['Co-Applicant'].value_counts(normalize=True).plot(kind='bar',title= 'Co-Applicant',rot=0)"
   ]
  },
  {
   "cell_type": "code",
   "execution_count": 12,
   "metadata": {},
   "outputs": [
    {
     "data": {
      "text/plain": [
       "<matplotlib.axes._subplots.AxesSubplot at 0x23f7a6df548>"
      ]
     },
     "execution_count": 12,
     "metadata": {},
     "output_type": "execute_result"
    },
    {
     "data": {
      "image/png": "[encoded data removed]",
      "text/plain": [
       "<Figure size 432x288 with 2 Axes>"
      ]
     },
     "metadata": {
      "needs_background": "light"
     },
     "output_type": "display_data"
    }
   ],
   "source": [
    "sns.heatmap(customer_details.isnull(),cmap='viridis')"
   ]
  },
  {
   "cell_type": "code",
   "execution_count": 13,
   "metadata": {
    "scrolled": true
   },
   "outputs": [],
   "source": [
    "# 'Name','Customer ID','Location','Property ID' is unique for each customer so it can be avoided\n",
    "# Loan given to each 'Gender' is almost same (And I have Trained including gender.it doesn't give any improvement in accuracy) \n",
    "cus_det=customer_details.drop(['Name','Customer ID','Gender','Location','Property ID'],axis='columns')"
   ]
  },
  {
   "cell_type": "code",
   "execution_count": 14,
   "metadata": {
    "scrolled": false
   },
   "outputs": [
    {
     "name": "stdout",
     "output_type": "stream",
     "text": [
      "<class 'pandas.core.frame.DataFrame'>\n",
      "RangeIndex: 30000 entries, 0 to 29999\n",
      "Data columns (total 19 columns):\n",
      "Age                            30000 non-null int64\n",
      "Income (USD)                   25424 non-null float64\n",
      "Income Stability               28317 non-null object\n",
      "Profession                     30000 non-null object\n",
      "Type of Employment             25474 non-null object\n",
      "Loan Amount Request (USD)      30000 non-null float64\n",
      "Current Loan Expenses (USD)    29828 non-null float64\n",
      "Expense Type 1                 30000 non-null object\n",
      "Expense Type 2                 30000 non-null object\n",
      "Dependents                     27507 non-null float64\n",
      "Credit Score                   28297 non-null float64\n",
      "No. of Defaults                30000 non-null int64\n",
      "Has Active Credit Card         28434 non-null object\n",
      "Property Age                   25150 non-null float64\n",
      "Property Type                  30000 non-null int64\n",
      "Property Location              29644 non-null object\n",
      "Co-Applicant                   30000 non-null int64\n",
      "Property Price                 30000 non-null float64\n",
      "Loan Sanction Amount (USD)     29660 non-null float64\n",
      "dtypes: float64(8), int64(4), object(7)\n",
      "memory usage: 4.3+ MB\n"
     ]
    }
   ],
   "source": [
    "#Finding the null values in the dataset\n",
    "cus_det.info()"
   ]
  },
  {
   "cell_type": "markdown",
   "metadata": {},
   "source": [
    "# Outlier Analysis"
   ]
  },
  {
   "cell_type": "code",
   "execution_count": 15,
   "metadata": {
    "scrolled": true
   },
   "outputs": [
    {
     "data": {
      "text/plain": [
       "<matplotlib.axes._subplots.AxesSubplot at 0x23f7a81bec8>"
      ]
     },
     "execution_count": 15,
     "metadata": {},
     "output_type": "execute_result"
    },
    {
     "data": {
      "image/png": "[encoded data removed]",
      "text/plain": [
       "<Figure size 432x288 with 1 Axes>"
      ]
     },
     "metadata": {
      "needs_background": "light"
     },
     "output_type": "display_data"
    }
   ],
   "source": [
    "#before removing outliers\n",
    "sns.boxplot(cus_det['Loan Sanction Amount (USD)'])"
   ]
  },
  {
   "cell_type": "code",
   "execution_count": 16,
   "metadata": {
    "scrolled": false
   },
   "outputs": [
    {
     "name": "stdout",
     "output_type": "stream",
     "text": [
      "Age                                30.0000\n",
      "Income (USD)                     1440.1350\n",
      "Loan Amount Request (USD)       78786.8500\n",
      "Current Loan Expenses (USD)       273.6250\n",
      "Dependents                          1.0000\n",
      "Credit Score                      117.2400\n",
      "No. of Defaults                     0.0000\n",
      "Property Age                     1440.9575\n",
      "Property Type                       2.0000\n",
      "Co-Applicant                        0.0000\n",
      "Property Price                 118308.5600\n",
      "Loan Sanction Amount (USD)      74261.2500\n",
      "dtype: float64\n"
     ]
    }
   ],
   "source": [
    "# Inter Quartile Range (IQR) method\n",
    "Q1 = cus_det.quantile(0.25)\n",
    "Q3 =cus_det.quantile(0.75)\n",
    "IQR = Q3 - Q1\n",
    "print(IQR)"
   ]
  },
  {
   "cell_type": "code",
   "execution_count": 17,
   "metadata": {},
   "outputs": [],
   "source": [
    "cus_det = cus_det[~((cus_det < (Q1 - 1.5 * IQR)) |(cus_det > (Q3 + 1.5 * IQR))).any(axis=1)]"
   ]
  },
  {
   "cell_type": "code",
   "execution_count": 18,
   "metadata": {
    "scrolled": true
   },
   "outputs": [
    {
     "data": {
      "text/plain": [
       "<matplotlib.axes._subplots.AxesSubplot at 0x23f7a87ee88>"
      ]
     },
     "execution_count": 18,
     "metadata": {},
     "output_type": "execute_result"
    },
    {
     "data": {
      "image/png": "[encoded data removed]",
      "text/plain": [
       "<Figure size 432x288 with 1 Axes>"
      ]
     },
     "metadata": {
      "needs_background": "light"
     },
     "output_type": "display_data"
    }
   ],
   "source": [
    "sns.boxplot(cus_det['Loan Sanction Amount (USD)'])\n",
    "#after removing outliers"
   ]
  },
  {
   "cell_type": "code",
   "execution_count": 19,
   "metadata": {},
   "outputs": [
    {
     "name": "stdout",
     "output_type": "stream",
     "text": [
      "<class 'pandas.core.frame.DataFrame'>\n",
      "Int64Index: 18438 entries, 0 to 29999\n",
      "Data columns (total 19 columns):\n",
      "Age                            18438 non-null int64\n",
      "Income (USD)                   15360 non-null float64\n",
      "Income Stability               17316 non-null object\n",
      "Profession                     18438 non-null object\n",
      "Type of Employment             15447 non-null object\n",
      "Loan Amount Request (USD)      18438 non-null float64\n",
      "Current Loan Expenses (USD)    18322 non-null float64\n",
      "Expense Type 1                 18438 non-null object\n",
      "Expense Type 2                 18438 non-null object\n",
      "Dependents                     16813 non-null float64\n",
      "Credit Score                   17314 non-null float64\n",
      "No. of Defaults                18438 non-null int64\n",
      "Has Active Credit Card         17581 non-null object\n",
      "Property Age                   15191 non-null float64\n",
      "Property Type                  18438 non-null int64\n",
      "Property Location              18209 non-null object\n",
      "Co-Applicant                   18438 non-null int64\n",
      "Property Price                 18438 non-null float64\n",
      "Loan Sanction Amount (USD)     18204 non-null float64\n",
      "dtypes: float64(8), int64(4), object(7)\n",
      "memory usage: 2.8+ MB\n"
     ]
    }
   ],
   "source": [
    "cus_det.info()"
   ]
  },
  {
   "cell_type": "markdown",
   "metadata": {},
   "source": [
    "# Filling Missing Values"
   ]
  },
  {
   "cell_type": "code",
   "execution_count": 20,
   "metadata": {},
   "outputs": [
    {
     "data": {
      "text/plain": [
       "Age                               0\n",
       "Income (USD)                   3078\n",
       "Income Stability               1122\n",
       "Profession                        0\n",
       "Type of Employment             2991\n",
       "Loan Amount Request (USD)         0\n",
       "Current Loan Expenses (USD)     116\n",
       "Expense Type 1                    0\n",
       "Expense Type 2                    0\n",
       "Dependents                     1625\n",
       "Credit Score                   1124\n",
       "No. of Defaults                   0\n",
       "Has Active Credit Card          857\n",
       "Property Age                   3247\n",
       "Property Type                     0\n",
       "Property Location               229\n",
       "Co-Applicant                      0\n",
       "Property Price                    0\n",
       "Loan Sanction Amount (USD)      234\n",
       "dtype: int64"
      ]
     },
     "execution_count": 20,
     "metadata": {},
     "output_type": "execute_result"
    }
   ],
   "source": [
    "cus_det.isnull().sum()"
   ]
  },
  {
   "cell_type": "code",
   "execution_count": 21,
   "metadata": {
    "scrolled": true
   },
   "outputs": [
    {
     "data": {
      "text/plain": [
       "Age                               0\n",
       "Income (USD)                   3078\n",
       "Income Stability                  0\n",
       "Profession                        0\n",
       "Type of Employment                0\n",
       "Loan Amount Request (USD)         0\n",
       "Current Loan Expenses (USD)       0\n",
       "Expense Type 1                    0\n",
       "Expense Type 2                    0\n",
       "Dependents                        0\n",
       "Credit Score                      0\n",
       "No. of Defaults                   0\n",
       "Has Active Credit Card            1\n",
       "Property Age                      0\n",
       "Property Type                     0\n",
       "Property Location                 0\n",
       "Co-Applicant                      0\n",
       "Property Price                    0\n",
       "Loan Sanction Amount (USD)      234\n",
       "dtype: int64"
      ]
     },
     "execution_count": 21,
     "metadata": {},
     "output_type": "execute_result"
    }
   ],
   "source": [
    "#Property age and current loan expenses is something which cannot be predicted with the given data.so,it is better to find the median of it\n",
    "\n",
    "cus_det['Property Age']=cus_det['Property Age'].replace(np.NaN,cus_det['Property Age'].median())\n",
    "\n",
    "cus_det['Current Loan Expenses (USD)']=cus_det['Current Loan Expenses (USD)'].replace(np.NaN,cus_det['Current Loan Expenses (USD)'].median())\n",
    "cus_det['Credit Score']=cus_det['Credit Score'].replace(np.NaN,cus_det['Credit Score'].median())\n",
    "\n",
    "#Looking at the dataset I found that Last observation carried forward (LOCF) method is suitable for \"Income Stability\",\"Property Location\" and \"Has active credit card\"\n",
    "\n",
    "cus_det[\"Income Stability\"] = cus_det[\"Income Stability\"].fillna(method='ffill')\n",
    "\n",
    "cus_det['Property Location']=cus_det['Property Location'].fillna(method='ffill')\n",
    "\n",
    "cus_det[\"Has Active Credit Card\"] = cus_det[\"Has Active Credit Card\"].fillna(method='ffill')\n",
    "\n",
    "# Filling with mode\n",
    "cus_det['Dependents'].fillna(cus_det['Dependents'].mode()[0], inplace=True)\n",
    "\n",
    "cus_det['Type of Employment'] = cus_det['Type of Employment'].fillna(\"Unknown\")\n",
    "cus_det.isnull().sum()"
   ]
  },
  {
   "cell_type": "code",
   "execution_count": 22,
   "metadata": {},
   "outputs": [],
   "source": [
    "# Income is calculated using SimpleImputer\n",
    "from sklearn.impute import SimpleImputer\n",
    "# for skewed distribution median is the better representation\n",
    "imr = SimpleImputer(missing_values=np.nan, strategy='median')\n",
    "imr = imr.fit(cus_det[['Income (USD)']])\n",
    "cus_det['Income (USD)'] = imr.transform(cus_det[['Income (USD)']]).ravel()"
   ]
  },
  {
   "cell_type": "code",
   "execution_count": 23,
   "metadata": {},
   "outputs": [
    {
     "data": {
      "text/plain": [
       "Age                            0\n",
       "Income (USD)                   0\n",
       "Income Stability               0\n",
       "Profession                     0\n",
       "Type of Employment             0\n",
       "Loan Amount Request (USD)      0\n",
       "Current Loan Expenses (USD)    0\n",
       "Expense Type 1                 0\n",
       "Expense Type 2                 0\n",
       "Dependents                     0\n",
       "Credit Score                   0\n",
       "No. of Defaults                0\n",
       "Has Active Credit Card         0\n",
       "Property Age                   0\n",
       "Property Type                  0\n",
       "Property Location              0\n",
       "Co-Applicant                   0\n",
       "Property Price                 0\n",
       "Loan Sanction Amount (USD)     0\n",
       "dtype: int64"
      ]
     },
     "execution_count": 23,
     "metadata": {},
     "output_type": "execute_result"
    }
   ],
   "source": [
    "# As there is only few entries in 'Loan Sanction Amount (USD)' it can be avoided\n",
    "# Trying to predict 'Loan Sanction Amount (USD)' affecting my accuracy\n",
    "cus_det.dropna(subset=['Loan Sanction Amount (USD)'],inplace=True)\n",
    "cus_det['Has Active Credit Card'] = cus_det['Has Active Credit Card'].fillna(cus_det['Has Active Credit Card'].value_counts().index[0])\n",
    "\n",
    "cus_det.isnull().sum()"
   ]
  },
  {
   "cell_type": "code",
   "execution_count": 24,
   "metadata": {
    "scrolled": true
   },
   "outputs": [
    {
     "name": "stdout",
     "output_type": "stream",
     "text": [
      "<class 'pandas.core.frame.DataFrame'>\n",
      "Int64Index: 18204 entries, 0 to 29999\n",
      "Data columns (total 19 columns):\n",
      "Age                            18204 non-null int64\n",
      "Income (USD)                   18204 non-null float64\n",
      "Income Stability               18204 non-null object\n",
      "Profession                     18204 non-null object\n",
      "Type of Employment             18204 non-null object\n",
      "Loan Amount Request (USD)      18204 non-null float64\n",
      "Current Loan Expenses (USD)    18204 non-null float64\n",
      "Expense Type 1                 18204 non-null object\n",
      "Expense Type 2                 18204 non-null object\n",
      "Dependents                     18204 non-null float64\n",
      "Credit Score                   18204 non-null float64\n",
      "No. of Defaults                18204 non-null int64\n",
      "Has Active Credit Card         18204 non-null object\n",
      "Property Age                   18204 non-null float64\n",
      "Property Type                  18204 non-null int64\n",
      "Property Location              18204 non-null object\n",
      "Co-Applicant                   18204 non-null int64\n",
      "Property Price                 18204 non-null float64\n",
      "Loan Sanction Amount (USD)     18204 non-null float64\n",
      "dtypes: float64(8), int64(4), object(7)\n",
      "memory usage: 2.8+ MB\n"
     ]
    }
   ],
   "source": [
    "cus_det.info()\n"
   ]
  },
  {
   "cell_type": "markdown",
   "metadata": {},
   "source": [
    "# Label Encoding"
   ]
  },
  {
   "cell_type": "code",
   "execution_count": 25,
   "metadata": {},
   "outputs": [],
   "source": [
    "# Researches proven that One hot encoding is always outperform label encoding\n",
    "# But in this dataset it does't make a big change (I have tried that)\n",
    "cus_det[\"Expense Type 1\"] = cus_det[\"Expense Type 1\"].astype('category')# converting into type category\n",
    "cus_det[\"Expense Type 2\"] = cus_det[\"Expense Type 2\"].astype('category')\n",
    "\n",
    "cus_det[\"Income Stability\"] = cus_det[\"Income Stability\"].astype('category')\n",
    "\n",
    "cus_det[\"Type of Employment\"] = cus_det[\"Type of Employment\"].astype('category')\n"
   ]
  },
  {
   "cell_type": "code",
   "execution_count": 26,
   "metadata": {},
   "outputs": [],
   "source": [
    "# Assigning codes\n",
    "cus_det[\"Expense Type 1\"] = cus_det[\"Expense Type 1\"].cat.codes\n",
    "cus_det[\"Expense Type 2\"] = cus_det[\"Expense Type 2\"].cat.codes\n",
    "\n",
    "cus_det[\"Income Stability\"] = cus_det[\"Income Stability\"].cat.codes\n",
    "\n",
    "cus_det[\"Type of Employment\"] = cus_det[\"Type of Employment\"].cat.codes\n",
    "\n",
    "\n"
   ]
  },
  {
   "cell_type": "code",
   "execution_count": 27,
   "metadata": {
    "scrolled": true
   },
   "outputs": [
    {
     "data": {
      "text/html": [
       "<div>\n",
       "<style scoped>\n",
       "    .dataframe tbody tr th:only-of-type {\n",
       "        vertical-align: middle;\n",
       "    }\n",
       "\n",
       "    .dataframe tbody tr th {\n",
       "        vertical-align: top;\n",
       "    }\n",
       "\n",
       "    .dataframe thead th {\n",
       "        text-align: right;\n",
       "    }\n",
       "</style>\n",
       "<table border=\"1\" class=\"dataframe\">\n",
       "  <thead>\n",
       "    <tr style=\"text-align: right;\">\n",
       "      <th></th>\n",
       "      <th>Age</th>\n",
       "      <th>Income (USD)</th>\n",
       "      <th>Income Stability</th>\n",
       "      <th>Profession</th>\n",
       "      <th>Type of Employment</th>\n",
       "      <th>Loan Amount Request (USD)</th>\n",
       "      <th>Current Loan Expenses (USD)</th>\n",
       "      <th>Expense Type 1</th>\n",
       "      <th>Expense Type 2</th>\n",
       "      <th>Dependents</th>\n",
       "      <th>Credit Score</th>\n",
       "      <th>No. of Defaults</th>\n",
       "      <th>Has Active Credit Card</th>\n",
       "      <th>Property Age</th>\n",
       "      <th>Property Type</th>\n",
       "      <th>Property Location</th>\n",
       "      <th>Co-Applicant</th>\n",
       "      <th>Property Price</th>\n",
       "      <th>Loan Sanction Amount (USD)</th>\n",
       "    </tr>\n",
       "  </thead>\n",
       "  <tbody>\n",
       "    <tr>\n",
       "      <th>0</th>\n",
       "      <td>56</td>\n",
       "      <td>1933.05</td>\n",
       "      <td>1</td>\n",
       "      <td>Working</td>\n",
       "      <td>15</td>\n",
       "      <td>72809.58</td>\n",
       "      <td>241.08</td>\n",
       "      <td>0</td>\n",
       "      <td>0</td>\n",
       "      <td>3.0</td>\n",
       "      <td>809.44</td>\n",
       "      <td>0</td>\n",
       "      <td>Active</td>\n",
       "      <td>1933.05</td>\n",
       "      <td>4</td>\n",
       "      <td>Rural</td>\n",
       "      <td>1</td>\n",
       "      <td>119933.46</td>\n",
       "      <td>54607.18</td>\n",
       "    </tr>\n",
       "    <tr>\n",
       "      <th>1</th>\n",
       "      <td>32</td>\n",
       "      <td>4952.91</td>\n",
       "      <td>1</td>\n",
       "      <td>Working</td>\n",
       "      <td>18</td>\n",
       "      <td>46837.47</td>\n",
       "      <td>495.81</td>\n",
       "      <td>0</td>\n",
       "      <td>1</td>\n",
       "      <td>1.0</td>\n",
       "      <td>780.40</td>\n",
       "      <td>0</td>\n",
       "      <td>Unpossessed</td>\n",
       "      <td>4952.91</td>\n",
       "      <td>2</td>\n",
       "      <td>Rural</td>\n",
       "      <td>1</td>\n",
       "      <td>54791.00</td>\n",
       "      <td>37469.98</td>\n",
       "    </tr>\n",
       "    <tr>\n",
       "      <th>6</th>\n",
       "      <td>43</td>\n",
       "      <td>2361.56</td>\n",
       "      <td>1</td>\n",
       "      <td>Working</td>\n",
       "      <td>8</td>\n",
       "      <td>152561.34</td>\n",
       "      <td>697.67</td>\n",
       "      <td>1</td>\n",
       "      <td>1</td>\n",
       "      <td>2.0</td>\n",
       "      <td>637.29</td>\n",
       "      <td>0</td>\n",
       "      <td>Unpossessed</td>\n",
       "      <td>2361.56</td>\n",
       "      <td>1</td>\n",
       "      <td>Semi-Urban</td>\n",
       "      <td>1</td>\n",
       "      <td>221050.80</td>\n",
       "      <td>0.00</td>\n",
       "    </tr>\n",
       "    <tr>\n",
       "      <th>9</th>\n",
       "      <td>18</td>\n",
       "      <td>1546.17</td>\n",
       "      <td>1</td>\n",
       "      <td>Working</td>\n",
       "      <td>8</td>\n",
       "      <td>42091.29</td>\n",
       "      <td>500.20</td>\n",
       "      <td>0</td>\n",
       "      <td>0</td>\n",
       "      <td>2.0</td>\n",
       "      <td>613.24</td>\n",
       "      <td>0</td>\n",
       "      <td>Unpossessed</td>\n",
       "      <td>1546.17</td>\n",
       "      <td>2</td>\n",
       "      <td>Urban</td>\n",
       "      <td>1</td>\n",
       "      <td>67993.43</td>\n",
       "      <td>0.00</td>\n",
       "    </tr>\n",
       "    <tr>\n",
       "      <th>10</th>\n",
       "      <td>18</td>\n",
       "      <td>2416.86</td>\n",
       "      <td>1</td>\n",
       "      <td>State servant</td>\n",
       "      <td>3</td>\n",
       "      <td>25765.72</td>\n",
       "      <td>140.02</td>\n",
       "      <td>0</td>\n",
       "      <td>1</td>\n",
       "      <td>1.0</td>\n",
       "      <td>652.41</td>\n",
       "      <td>0</td>\n",
       "      <td>Active</td>\n",
       "      <td>2416.86</td>\n",
       "      <td>2</td>\n",
       "      <td>Rural</td>\n",
       "      <td>1</td>\n",
       "      <td>32423.71</td>\n",
       "      <td>16747.72</td>\n",
       "    </tr>\n",
       "  </tbody>\n",
       "</table>\n",
       "</div>"
      ],
      "text/plain": [
       "    Age  Income (USD)  Income Stability     Profession  Type of Employment  \\\n",
       "0    56       1933.05                 1        Working                  15   \n",
       "1    32       4952.91                 1        Working                  18   \n",
       "6    43       2361.56                 1        Working                   8   \n",
       "9    18       1546.17                 1        Working                   8   \n",
       "10   18       2416.86                 1  State servant                   3   \n",
       "\n",
       "    Loan Amount Request (USD)  Current Loan Expenses (USD)  Expense Type 1  \\\n",
       "0                    72809.58                       241.08               0   \n",
       "1                    46837.47                       495.81               0   \n",
       "6                   152561.34                       697.67               1   \n",
       "9                    42091.29                       500.20               0   \n",
       "10                   25765.72                       140.02               0   \n",
       "\n",
       "    Expense Type 2  Dependents  Credit Score  No. of Defaults  \\\n",
       "0                0         3.0        809.44                0   \n",
       "1                1         1.0        780.40                0   \n",
       "6                1         2.0        637.29                0   \n",
       "9                0         2.0        613.24                0   \n",
       "10               1         1.0        652.41                0   \n",
       "\n",
       "   Has Active Credit Card  Property Age  Property Type Property Location  \\\n",
       "0                  Active       1933.05              4             Rural   \n",
       "1             Unpossessed       4952.91              2             Rural   \n",
       "6             Unpossessed       2361.56              1        Semi-Urban   \n",
       "9             Unpossessed       1546.17              2             Urban   \n",
       "10                 Active       2416.86              2             Rural   \n",
       "\n",
       "    Co-Applicant  Property Price  Loan Sanction Amount (USD)  \n",
       "0              1       119933.46                    54607.18  \n",
       "1              1        54791.00                    37469.98  \n",
       "6              1       221050.80                        0.00  \n",
       "9              1        67993.43                        0.00  \n",
       "10             1        32423.71                    16747.72  "
      ]
     },
     "execution_count": 27,
     "metadata": {},
     "output_type": "execute_result"
    }
   ],
   "source": [
    "cus_det.head()"
   ]
  },
  {
   "cell_type": "markdown",
   "metadata": {},
   "source": [
    "# One Hot Encoding"
   ]
  },
  {
   "cell_type": "code",
   "execution_count": 28,
   "metadata": {},
   "outputs": [],
   "source": [
    "cus_det = pd.get_dummies(cus_det,columns=['Property Location','Profession','Has Active Credit Card'])"
   ]
  },
  {
   "cell_type": "code",
   "execution_count": 29,
   "metadata": {},
   "outputs": [
    {
     "data": {
      "text/html": [
       "<div>\n",
       "<style scoped>\n",
       "    .dataframe tbody tr th:only-of-type {\n",
       "        vertical-align: middle;\n",
       "    }\n",
       "\n",
       "    .dataframe tbody tr th {\n",
       "        vertical-align: top;\n",
       "    }\n",
       "\n",
       "    .dataframe thead th {\n",
       "        text-align: right;\n",
       "    }\n",
       "</style>\n",
       "<table border=\"1\" class=\"dataframe\">\n",
       "  <thead>\n",
       "    <tr style=\"text-align: right;\">\n",
       "      <th></th>\n",
       "      <th>Age</th>\n",
       "      <th>Income (USD)</th>\n",
       "      <th>Income Stability</th>\n",
       "      <th>Type of Employment</th>\n",
       "      <th>Loan Amount Request (USD)</th>\n",
       "      <th>Current Loan Expenses (USD)</th>\n",
       "      <th>Expense Type 1</th>\n",
       "      <th>Expense Type 2</th>\n",
       "      <th>Dependents</th>\n",
       "      <th>Credit Score</th>\n",
       "      <th>...</th>\n",
       "      <th>Property Location_Semi-Urban</th>\n",
       "      <th>Property Location_Urban</th>\n",
       "      <th>Profession_Businessman</th>\n",
       "      <th>Profession_Commercial associate</th>\n",
       "      <th>Profession_Pensioner</th>\n",
       "      <th>Profession_State servant</th>\n",
       "      <th>Profession_Working</th>\n",
       "      <th>Has Active Credit Card_Active</th>\n",
       "      <th>Has Active Credit Card_Inactive</th>\n",
       "      <th>Has Active Credit Card_Unpossessed</th>\n",
       "    </tr>\n",
       "  </thead>\n",
       "  <tbody>\n",
       "    <tr>\n",
       "      <th>0</th>\n",
       "      <td>56</td>\n",
       "      <td>1933.05</td>\n",
       "      <td>1</td>\n",
       "      <td>15</td>\n",
       "      <td>72809.58</td>\n",
       "      <td>241.08</td>\n",
       "      <td>0</td>\n",
       "      <td>0</td>\n",
       "      <td>3.0</td>\n",
       "      <td>809.44</td>\n",
       "      <td>...</td>\n",
       "      <td>0</td>\n",
       "      <td>0</td>\n",
       "      <td>0</td>\n",
       "      <td>0</td>\n",
       "      <td>0</td>\n",
       "      <td>0</td>\n",
       "      <td>1</td>\n",
       "      <td>1</td>\n",
       "      <td>0</td>\n",
       "      <td>0</td>\n",
       "    </tr>\n",
       "    <tr>\n",
       "      <th>1</th>\n",
       "      <td>32</td>\n",
       "      <td>4952.91</td>\n",
       "      <td>1</td>\n",
       "      <td>18</td>\n",
       "      <td>46837.47</td>\n",
       "      <td>495.81</td>\n",
       "      <td>0</td>\n",
       "      <td>1</td>\n",
       "      <td>1.0</td>\n",
       "      <td>780.40</td>\n",
       "      <td>...</td>\n",
       "      <td>0</td>\n",
       "      <td>0</td>\n",
       "      <td>0</td>\n",
       "      <td>0</td>\n",
       "      <td>0</td>\n",
       "      <td>0</td>\n",
       "      <td>1</td>\n",
       "      <td>0</td>\n",
       "      <td>0</td>\n",
       "      <td>1</td>\n",
       "    </tr>\n",
       "    <tr>\n",
       "      <th>6</th>\n",
       "      <td>43</td>\n",
       "      <td>2361.56</td>\n",
       "      <td>1</td>\n",
       "      <td>8</td>\n",
       "      <td>152561.34</td>\n",
       "      <td>697.67</td>\n",
       "      <td>1</td>\n",
       "      <td>1</td>\n",
       "      <td>2.0</td>\n",
       "      <td>637.29</td>\n",
       "      <td>...</td>\n",
       "      <td>1</td>\n",
       "      <td>0</td>\n",
       "      <td>0</td>\n",
       "      <td>0</td>\n",
       "      <td>0</td>\n",
       "      <td>0</td>\n",
       "      <td>1</td>\n",
       "      <td>0</td>\n",
       "      <td>0</td>\n",
       "      <td>1</td>\n",
       "    </tr>\n",
       "    <tr>\n",
       "      <th>9</th>\n",
       "      <td>18</td>\n",
       "      <td>1546.17</td>\n",
       "      <td>1</td>\n",
       "      <td>8</td>\n",
       "      <td>42091.29</td>\n",
       "      <td>500.20</td>\n",
       "      <td>0</td>\n",
       "      <td>0</td>\n",
       "      <td>2.0</td>\n",
       "      <td>613.24</td>\n",
       "      <td>...</td>\n",
       "      <td>0</td>\n",
       "      <td>1</td>\n",
       "      <td>0</td>\n",
       "      <td>0</td>\n",
       "      <td>0</td>\n",
       "      <td>0</td>\n",
       "      <td>1</td>\n",
       "      <td>0</td>\n",
       "      <td>0</td>\n",
       "      <td>1</td>\n",
       "    </tr>\n",
       "    <tr>\n",
       "      <th>10</th>\n",
       "      <td>18</td>\n",
       "      <td>2416.86</td>\n",
       "      <td>1</td>\n",
       "      <td>3</td>\n",
       "      <td>25765.72</td>\n",
       "      <td>140.02</td>\n",
       "      <td>0</td>\n",
       "      <td>1</td>\n",
       "      <td>1.0</td>\n",
       "      <td>652.41</td>\n",
       "      <td>...</td>\n",
       "      <td>0</td>\n",
       "      <td>0</td>\n",
       "      <td>0</td>\n",
       "      <td>0</td>\n",
       "      <td>0</td>\n",
       "      <td>1</td>\n",
       "      <td>0</td>\n",
       "      <td>1</td>\n",
       "      <td>0</td>\n",
       "      <td>0</td>\n",
       "    </tr>\n",
       "  </tbody>\n",
       "</table>\n",
       "<p>5 rows × 27 columns</p>\n",
       "</div>"
      ],
      "text/plain": [
       "    Age  Income (USD)  Income Stability  Type of Employment  \\\n",
       "0    56       1933.05                 1                  15   \n",
       "1    32       4952.91                 1                  18   \n",
       "6    43       2361.56                 1                   8   \n",
       "9    18       1546.17                 1                   8   \n",
       "10   18       2416.86                 1                   3   \n",
       "\n",
       "    Loan Amount Request (USD)  Current Loan Expenses (USD)  Expense Type 1  \\\n",
       "0                    72809.58                       241.08               0   \n",
       "1                    46837.47                       495.81               0   \n",
       "6                   152561.34                       697.67               1   \n",
       "9                    42091.29                       500.20               0   \n",
       "10                   25765.72                       140.02               0   \n",
       "\n",
       "    Expense Type 2  Dependents  Credit Score  ...  \\\n",
       "0                0         3.0        809.44  ...   \n",
       "1                1         1.0        780.40  ...   \n",
       "6                1         2.0        637.29  ...   \n",
       "9                0         2.0        613.24  ...   \n",
       "10               1         1.0        652.41  ...   \n",
       "\n",
       "    Property Location_Semi-Urban  Property Location_Urban  \\\n",
       "0                              0                        0   \n",
       "1                              0                        0   \n",
       "6                              1                        0   \n",
       "9                              0                        1   \n",
       "10                             0                        0   \n",
       "\n",
       "    Profession_Businessman  Profession_Commercial associate  \\\n",
       "0                        0                                0   \n",
       "1                        0                                0   \n",
       "6                        0                                0   \n",
       "9                        0                                0   \n",
       "10                       0                                0   \n",
       "\n",
       "    Profession_Pensioner  Profession_State servant  Profession_Working  \\\n",
       "0                      0                         0                   1   \n",
       "1                      0                         0                   1   \n",
       "6                      0                         0                   1   \n",
       "9                      0                         0                   1   \n",
       "10                     0                         1                   0   \n",
       "\n",
       "    Has Active Credit Card_Active  Has Active Credit Card_Inactive  \\\n",
       "0                               1                                0   \n",
       "1                               0                                0   \n",
       "6                               0                                0   \n",
       "9                               0                                0   \n",
       "10                              1                                0   \n",
       "\n",
       "    Has Active Credit Card_Unpossessed  \n",
       "0                                    0  \n",
       "1                                    1  \n",
       "6                                    1  \n",
       "9                                    1  \n",
       "10                                   0  \n",
       "\n",
       "[5 rows x 27 columns]"
      ]
     },
     "execution_count": 29,
     "metadata": {},
     "output_type": "execute_result"
    }
   ],
   "source": [
    "cus_det.head()"
   ]
  },
  {
   "cell_type": "code",
   "execution_count": 30,
   "metadata": {},
   "outputs": [
    {
     "data": {
      "text/plain": [
       "Age                                   0\n",
       "Income (USD)                          0\n",
       "Income Stability                      0\n",
       "Type of Employment                    0\n",
       "Loan Amount Request (USD)             0\n",
       "Current Loan Expenses (USD)           0\n",
       "Expense Type 1                        0\n",
       "Expense Type 2                        0\n",
       "Dependents                            0\n",
       "Credit Score                          0\n",
       "No. of Defaults                       0\n",
       "Property Age                          0\n",
       "Property Type                         0\n",
       "Co-Applicant                          0\n",
       "Property Price                        0\n",
       "Loan Sanction Amount (USD)            0\n",
       "Property Location_Rural               0\n",
       "Property Location_Semi-Urban          0\n",
       "Property Location_Urban               0\n",
       "Profession_Businessman                0\n",
       "Profession_Commercial associate       0\n",
       "Profession_Pensioner                  0\n",
       "Profession_State servant              0\n",
       "Profession_Working                    0\n",
       "Has Active Credit Card_Active         0\n",
       "Has Active Credit Card_Inactive       0\n",
       "Has Active Credit Card_Unpossessed    0\n",
       "dtype: int64"
      ]
     },
     "execution_count": 30,
     "metadata": {},
     "output_type": "execute_result"
    }
   ],
   "source": [
    "cus_det.isnull().sum()"
   ]
  },
  {
   "cell_type": "markdown",
   "metadata": {},
   "source": [
    "# Splitting Data"
   ]
  },
  {
   "cell_type": "code",
   "execution_count": 31,
   "metadata": {},
   "outputs": [],
   "source": [
    "# machine learning algorithms that are  using here sensitive to feature scaling \n",
    "from sklearn.model_selection import train_test_split\n",
    "\n",
    "x = cus_det.drop('Loan Sanction Amount (USD)',axis=1)\n",
    "y = cus_det['Loan Sanction Amount (USD)']\n",
    "X_train, X_test, y_train, y_test = train_test_split(x,y,test_size=0.1,random_state=101)"
   ]
  },
  {
   "cell_type": "markdown",
   "metadata": {},
   "source": [
    "# Model : RandomForestRegressor"
   ]
  },
  {
   "cell_type": "code",
   "execution_count": 32,
   "metadata": {},
   "outputs": [
    {
     "data": {
      "text/plain": [
       "RandomForestRegressor(bootstrap=True, ccp_alpha=0.0, criterion='mse',\n",
       "                      max_depth=6, max_features='auto', max_leaf_nodes=None,\n",
       "                      max_samples=None, min_impurity_decrease=0.0,\n",
       "                      min_impurity_split=None, min_samples_leaf=1,\n",
       "                      min_samples_split=2, min_weight_fraction_leaf=0.0,\n",
       "                      n_estimators=100, n_jobs=None, oob_score=False,\n",
       "                      random_state=None, verbose=0, warm_start=False)"
      ]
     },
     "execution_count": 32,
     "metadata": {},
     "output_type": "execute_result"
    }
   ],
   "source": [
    "from sklearn.ensemble import RandomForestRegressor\n",
    "# Hyperparameter tuning is done using validation cure.As it takes a lot of time to execute I have avoided that part\n",
    "regr = RandomForestRegressor(max_depth=6)\n",
    "regr.fit(X_train,y_train)"
   ]
  },
  {
   "cell_type": "code",
   "execution_count": 33,
   "metadata": {},
   "outputs": [],
   "source": [
    "test_data_prediction = regr.predict(X_test)\n"
   ]
  },
  {
   "cell_type": "code",
   "execution_count": 34,
   "metadata": {},
   "outputs": [
    {
     "name": "stdout",
     "output_type": "stream",
     "text": [
      "R squared error of RandomForestRegressor :  0.8003704530179442\n"
     ]
    }
   ],
   "source": [
    "from sklearn import metrics\n",
    "RFR2score = metrics.r2_score(y_test, test_data_prediction)\n",
    "print(\"R squared error of RandomForestRegressor : \", RFR2score)"
   ]
  },
  {
   "cell_type": "markdown",
   "metadata": {},
   "source": [
    "# Model : Linear Regression"
   ]
  },
  {
   "cell_type": "code",
   "execution_count": 35,
   "metadata": {
    "scrolled": true
   },
   "outputs": [
    {
     "name": "stdout",
     "output_type": "stream",
     "text": [
      "Coefficients: \n",
      " [-2.21645709e+01  5.58280100e-01  1.11392043e+03  1.19608464e+01\n",
      "  6.25243245e-01 -3.07495484e+00  3.42143500e+02  9.30567985e+02\n",
      "  3.18472949e+02  1.49160877e+02 -3.51519702e-10 -1.20688997e+00\n",
      " -7.39783576e+00 -2.83080226e-10 -1.47159721e-02  1.24339217e+02\n",
      " -3.53355910e+02  2.29016694e+02  8.08281588e+03 -3.84551997e+02\n",
      " -5.40173918e+03 -1.31124517e+03 -9.85279531e+02 -2.89969835e+02\n",
      "  3.11983073e+02 -2.20132377e+01]\n"
     ]
    }
   ],
   "source": [
    "from sklearn.linear_model import LinearRegression\n",
    "lm = LinearRegression()\n",
    "lm.fit(X_train,y_train)\n",
    "print('Coefficients: \\n', lm.coef_)"
   ]
  },
  {
   "cell_type": "code",
   "execution_count": 36,
   "metadata": {
    "scrolled": true
   },
   "outputs": [
    {
     "name": "stdout",
     "output_type": "stream",
     "text": [
      "R squared error of LinearRegression :  0.6986815386156477\n"
     ]
    }
   ],
   "source": [
    "predictions = lm.predict( X_test)\n",
    "print(\"R squared error of LinearRegression : \",metrics.r2_score(y_test, predictions))"
   ]
  },
  {
   "cell_type": "markdown",
   "metadata": {},
   "source": [
    "# Model : BayesianRidge"
   ]
  },
  {
   "cell_type": "code",
   "execution_count": 37,
   "metadata": {},
   "outputs": [
    {
     "data": {
      "text/plain": [
       "BayesianRidge(alpha_1=1e-06, alpha_2=1e-06, alpha_init=None,\n",
       "              compute_score=False, copy_X=True, fit_intercept=True,\n",
       "              lambda_1=1e-06, lambda_2=1e-06, lambda_init=None, n_iter=300,\n",
       "              normalize=False, tol=0.001, verbose=False)"
      ]
     },
     "execution_count": 37,
     "metadata": {},
     "output_type": "execute_result"
    }
   ],
   "source": [
    "from sklearn import linear_model\n",
    "bm=linear_model.BayesianRidge(n_iter=300)\n",
    "bm.fit(X_train,y_train)"
   ]
  },
  {
   "cell_type": "code",
   "execution_count": 38,
   "metadata": {
    "scrolled": true
   },
   "outputs": [
    {
     "name": "stdout",
     "output_type": "stream",
     "text": [
      "R squared error of BayesianRidge :  0.6982766453355826\n"
     ]
    }
   ],
   "source": [
    "bm_prediction=bm.predict(X_test)\n",
    "print(\"R squared error of BayesianRidge : \",metrics.r2_score(y_test, bm_prediction))"
   ]
  },
  {
   "cell_type": "markdown",
   "metadata": {},
   "source": [
    "# Model : DecisionTreeRegressor"
   ]
  },
  {
   "cell_type": "code",
   "execution_count": 39,
   "metadata": {
    "scrolled": false
   },
   "outputs": [
    {
     "name": "stdout",
     "output_type": "stream",
     "text": [
      "R squared error of DecisionTreeRegressor :  0.7915982648725829\n"
     ]
    }
   ],
   "source": [
    "from sklearn.tree import DecisionTreeRegressor\n",
    "dtr = DecisionTreeRegressor(random_state=101,max_depth=6.5,min_samples_split=2)   \n",
    "    #fit the data\n",
    "dmodel = dtr.fit(X_train, y_train)\n",
    "dprediction=dmodel.predict(X_test)\n",
    "print(\"R squared error of DecisionTreeRegressor : \",metrics.r2_score(y_test, dprediction))    \n"
   ]
  },
  {
   "cell_type": "code",
   "execution_count": 40,
   "metadata": {},
   "outputs": [],
   "source": [
    "# The Model with Higher R squared error is RandomForestRegressor .so it is the best Model For the given data"
   ]
  }
 ],
 "metadata": {
  "kernelspec": {
   "display_name": "Python 3",
   "language": "python",
   "name": "python3"
  },
  "language_info": {
   "codemirror_mode": {
    "name": "ipython",
    "version": 3
   },
   "file_extension": ".py",
   "mimetype": "text/x-python",
   "name": "python",
   "nbconvert_exporter": "python",
   "pygments_lexer": "ipython3",
   "version": "3.7.6"
  }
 },
 "nbformat": 4,
 "nbformat_minor": 4
}
